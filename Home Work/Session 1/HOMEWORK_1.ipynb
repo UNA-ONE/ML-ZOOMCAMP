{
  "nbformat": 4,
  "nbformat_minor": 0,
  "metadata": {
    "colab": {
      "name": "HOMEWORK_1.ipynb",
      "provenance": [],
      "collapsed_sections": []
    },
    "kernelspec": {
      "name": "python3",
      "display_name": "Python 3"
    },
    "language_info": {
      "name": "python"
    }
  },
  "cells": [
    {
      "cell_type": "markdown",
      "metadata": {
        "id": "En9Yc5_ZMgTv"
      },
      "source": [
        "**Importing the necessary modules**"
      ]
    },
    {
      "cell_type": "code",
      "metadata": {
        "id": "VHfw6XXzlgD0"
      },
      "source": [
        "import pandas as pd \n",
        "import numpy as np\n"
      ],
      "execution_count": 64,
      "outputs": []
    },
    {
      "cell_type": "markdown",
      "metadata": {
        "id": "L8onA5xmoKHD"
      },
      "source": [
        " **NumPy  version used** \n",
        "\n",
        "\n",
        "\n",
        "\n",
        "\n",
        "\n",
        "\n",
        "\n",
        "\n",
        "\n"
      ]
    },
    {
      "cell_type": "code",
      "metadata": {
        "colab": {
          "base_uri": "https://localhost:8080/",
          "height": 35
        },
        "id": "EUbzsSCalniQ",
        "outputId": "6b662bdb-127d-41ad-fce0-7fbeabb0d705"
      },
      "source": [
        "np.__version__"
      ],
      "execution_count": 65,
      "outputs": [
        {
          "output_type": "execute_result",
          "data": {
            "application/vnd.google.colaboratory.intrinsic+json": {
              "type": "string"
            },
            "text/plain": [
              "'1.19.5'"
            ]
          },
          "metadata": {},
          "execution_count": 65
        }
      ]
    },
    {
      "cell_type": "markdown",
      "metadata": {
        "id": "K2Mmxtyd14wa"
      },
      "source": [
        "**Pandas Version Used**"
      ]
    },
    {
      "cell_type": "code",
      "metadata": {
        "colab": {
          "base_uri": "https://localhost:8080/",
          "height": 35
        },
        "id": "ESLQ60vTl0TR",
        "outputId": "54f28124-e17d-4a8a-c6b4-381e6c302395"
      },
      "source": [
        "pd.__version__"
      ],
      "execution_count": 66,
      "outputs": [
        {
          "output_type": "execute_result",
          "data": {
            "application/vnd.google.colaboratory.intrinsic+json": {
              "type": "string"
            },
            "text/plain": [
              "'1.1.5'"
            ]
          },
          "metadata": {},
          "execution_count": 66
        }
      ]
    },
    {
      "cell_type": "markdown",
      "metadata": {
        "id": "_hjz0ICY5Pdt"
      },
      "source": [
        "**Loading the data**\n",
        "\n",
        ">Download the dataset here [CAR DATASET]( https://raw.githubusercontent.com/alexeygrigorev/mlbookcamp-code/master/chapter-02-car-price/data.csv\n",
        ")\n",
        "\n"
      ]
    },
    {
      "cell_type": "code",
      "metadata": {
        "id": "yX2_xUMImFkf"
      },
      "source": [
        "df=pd.read_csv(\"/content/drive/MyDrive/DATA_ML/data.csv\")"
      ],
      "execution_count": 67,
      "outputs": []
    },
    {
      "cell_type": "markdown",
      "metadata": {
        "id": "1djgshsu5rO4"
      },
      "source": [
        "**Initial Exploration of the DATA**"
      ]
    },
    {
      "cell_type": "code",
      "metadata": {
        "colab": {
          "base_uri": "https://localhost:8080/",
          "height": 408
        },
        "id": "MJWaInDboW1k",
        "outputId": "3277460b-64db-45e2-8c93-be29f10462a3"
      },
      "source": [
        "df.head()"
      ],
      "execution_count": 68,
      "outputs": [
        {
          "output_type": "execute_result",
          "data": {
            "text/html": [
              "<div>\n",
              "<style scoped>\n",
              "    .dataframe tbody tr th:only-of-type {\n",
              "        vertical-align: middle;\n",
              "    }\n",
              "\n",
              "    .dataframe tbody tr th {\n",
              "        vertical-align: top;\n",
              "    }\n",
              "\n",
              "    .dataframe thead th {\n",
              "        text-align: right;\n",
              "    }\n",
              "</style>\n",
              "<table border=\"1\" class=\"dataframe\">\n",
              "  <thead>\n",
              "    <tr style=\"text-align: right;\">\n",
              "      <th></th>\n",
              "      <th>Make</th>\n",
              "      <th>Model</th>\n",
              "      <th>Year</th>\n",
              "      <th>Engine Fuel Type</th>\n",
              "      <th>Engine HP</th>\n",
              "      <th>Engine Cylinders</th>\n",
              "      <th>Transmission Type</th>\n",
              "      <th>Driven_Wheels</th>\n",
              "      <th>Number of Doors</th>\n",
              "      <th>Market Category</th>\n",
              "      <th>Vehicle Size</th>\n",
              "      <th>Vehicle Style</th>\n",
              "      <th>highway MPG</th>\n",
              "      <th>city mpg</th>\n",
              "      <th>Popularity</th>\n",
              "      <th>MSRP</th>\n",
              "    </tr>\n",
              "  </thead>\n",
              "  <tbody>\n",
              "    <tr>\n",
              "      <th>0</th>\n",
              "      <td>BMW</td>\n",
              "      <td>1 Series M</td>\n",
              "      <td>2011</td>\n",
              "      <td>premium unleaded (required)</td>\n",
              "      <td>335.0</td>\n",
              "      <td>6.0</td>\n",
              "      <td>MANUAL</td>\n",
              "      <td>rear wheel drive</td>\n",
              "      <td>2.0</td>\n",
              "      <td>Factory Tuner,Luxury,High-Performance</td>\n",
              "      <td>Compact</td>\n",
              "      <td>Coupe</td>\n",
              "      <td>26</td>\n",
              "      <td>19</td>\n",
              "      <td>3916</td>\n",
              "      <td>46135</td>\n",
              "    </tr>\n",
              "    <tr>\n",
              "      <th>1</th>\n",
              "      <td>BMW</td>\n",
              "      <td>1 Series</td>\n",
              "      <td>2011</td>\n",
              "      <td>premium unleaded (required)</td>\n",
              "      <td>300.0</td>\n",
              "      <td>6.0</td>\n",
              "      <td>MANUAL</td>\n",
              "      <td>rear wheel drive</td>\n",
              "      <td>2.0</td>\n",
              "      <td>Luxury,Performance</td>\n",
              "      <td>Compact</td>\n",
              "      <td>Convertible</td>\n",
              "      <td>28</td>\n",
              "      <td>19</td>\n",
              "      <td>3916</td>\n",
              "      <td>40650</td>\n",
              "    </tr>\n",
              "    <tr>\n",
              "      <th>2</th>\n",
              "      <td>BMW</td>\n",
              "      <td>1 Series</td>\n",
              "      <td>2011</td>\n",
              "      <td>premium unleaded (required)</td>\n",
              "      <td>300.0</td>\n",
              "      <td>6.0</td>\n",
              "      <td>MANUAL</td>\n",
              "      <td>rear wheel drive</td>\n",
              "      <td>2.0</td>\n",
              "      <td>Luxury,High-Performance</td>\n",
              "      <td>Compact</td>\n",
              "      <td>Coupe</td>\n",
              "      <td>28</td>\n",
              "      <td>20</td>\n",
              "      <td>3916</td>\n",
              "      <td>36350</td>\n",
              "    </tr>\n",
              "    <tr>\n",
              "      <th>3</th>\n",
              "      <td>BMW</td>\n",
              "      <td>1 Series</td>\n",
              "      <td>2011</td>\n",
              "      <td>premium unleaded (required)</td>\n",
              "      <td>230.0</td>\n",
              "      <td>6.0</td>\n",
              "      <td>MANUAL</td>\n",
              "      <td>rear wheel drive</td>\n",
              "      <td>2.0</td>\n",
              "      <td>Luxury,Performance</td>\n",
              "      <td>Compact</td>\n",
              "      <td>Coupe</td>\n",
              "      <td>28</td>\n",
              "      <td>18</td>\n",
              "      <td>3916</td>\n",
              "      <td>29450</td>\n",
              "    </tr>\n",
              "    <tr>\n",
              "      <th>4</th>\n",
              "      <td>BMW</td>\n",
              "      <td>1 Series</td>\n",
              "      <td>2011</td>\n",
              "      <td>premium unleaded (required)</td>\n",
              "      <td>230.0</td>\n",
              "      <td>6.0</td>\n",
              "      <td>MANUAL</td>\n",
              "      <td>rear wheel drive</td>\n",
              "      <td>2.0</td>\n",
              "      <td>Luxury</td>\n",
              "      <td>Compact</td>\n",
              "      <td>Convertible</td>\n",
              "      <td>28</td>\n",
              "      <td>18</td>\n",
              "      <td>3916</td>\n",
              "      <td>34500</td>\n",
              "    </tr>\n",
              "  </tbody>\n",
              "</table>\n",
              "</div>"
            ],
            "text/plain": [
              "  Make       Model  Year  ... city mpg  Popularity   MSRP\n",
              "0  BMW  1 Series M  2011  ...       19        3916  46135\n",
              "1  BMW    1 Series  2011  ...       19        3916  40650\n",
              "2  BMW    1 Series  2011  ...       20        3916  36350\n",
              "3  BMW    1 Series  2011  ...       18        3916  29450\n",
              "4  BMW    1 Series  2011  ...       18        3916  34500\n",
              "\n",
              "[5 rows x 16 columns]"
            ]
          },
          "metadata": {},
          "execution_count": 68
        }
      ]
    },
    {
      "cell_type": "code",
      "metadata": {
        "id": "4khcspoAonU-",
        "colab": {
          "base_uri": "https://localhost:8080/"
        },
        "outputId": "368e2a34-f6b9-4507-9de3-157f63af8022"
      },
      "source": [
        "df.info()"
      ],
      "execution_count": 69,
      "outputs": [
        {
          "output_type": "stream",
          "name": "stdout",
          "text": [
            "<class 'pandas.core.frame.DataFrame'>\n",
            "RangeIndex: 11914 entries, 0 to 11913\n",
            "Data columns (total 16 columns):\n",
            " #   Column             Non-Null Count  Dtype  \n",
            "---  ------             --------------  -----  \n",
            " 0   Make               11914 non-null  object \n",
            " 1   Model              11914 non-null  object \n",
            " 2   Year               11914 non-null  int64  \n",
            " 3   Engine Fuel Type   11911 non-null  object \n",
            " 4   Engine HP          11845 non-null  float64\n",
            " 5   Engine Cylinders   11884 non-null  float64\n",
            " 6   Transmission Type  11914 non-null  object \n",
            " 7   Driven_Wheels      11914 non-null  object \n",
            " 8   Number of Doors    11908 non-null  float64\n",
            " 9   Market Category    8172 non-null   object \n",
            " 10  Vehicle Size       11914 non-null  object \n",
            " 11  Vehicle Style      11914 non-null  object \n",
            " 12  highway MPG        11914 non-null  int64  \n",
            " 13  city mpg           11914 non-null  int64  \n",
            " 14  Popularity         11914 non-null  int64  \n",
            " 15  MSRP               11914 non-null  int64  \n",
            "dtypes: float64(3), int64(5), object(8)\n",
            "memory usage: 1.5+ MB\n"
          ]
        }
      ]
    },
    {
      "cell_type": "markdown",
      "metadata": {
        "id": "g6BeVdXN53hK"
      },
      "source": [
        "**Subsetting the rows based on BMW cars**"
      ]
    },
    {
      "cell_type": "code",
      "metadata": {
        "colab": {
          "base_uri": "https://localhost:8080/"
        },
        "id": "aic02vKjzwXs",
        "outputId": "ce23b713-6abf-45c8-fb49-6d2e0069feca"
      },
      "source": [
        " bmw_cars = df[df[\"Make\"] == \"BMW\"]\n",
        " print(bmw_cars)"
      ],
      "execution_count": 70,
      "outputs": [
        {
          "output_type": "stream",
          "name": "stdout",
          "text": [
            "      Make       Model  Year  ... city mpg  Popularity    MSRP\n",
            "0      BMW  1 Series M  2011  ...       19        3916   46135\n",
            "1      BMW    1 Series  2011  ...       19        3916   40650\n",
            "2      BMW    1 Series  2011  ...       20        3916   36350\n",
            "3      BMW    1 Series  2011  ...       18        3916   29450\n",
            "4      BMW    1 Series  2011  ...       18        3916   34500\n",
            "...    ...         ...   ...  ...      ...         ...     ...\n",
            "11901  BMW          Z4  2016  ...       22        3916   49700\n",
            "11902  BMW          Z4  2016  ...       17        3916   66350\n",
            "11903  BMW          Z8  2001  ...       12        3916  128000\n",
            "11904  BMW          Z8  2002  ...       12        3916  130000\n",
            "11905  BMW          Z8  2003  ...       12        3916  131500\n",
            "\n",
            "[334 rows x 16 columns]\n"
          ]
        }
      ]
    },
    {
      "cell_type": "markdown",
      "metadata": {
        "id": "_0nMGoni8UPn"
      },
      "source": [
        "**Creating the New Data Frame with the above got array**"
      ]
    },
    {
      "cell_type": "code",
      "metadata": {
        "id": "hCYxJNwa1jeq"
      },
      "source": [
        "mini_df = pd.DataFrame(bmw_cars)"
      ],
      "execution_count": 71,
      "outputs": []
    },
    {
      "cell_type": "markdown",
      "metadata": {
        "id": "4QEEuz8b880x"
      },
      "source": [
        "**Grouping the dataframe by Make column to get the Mean of the prices**"
      ]
    },
    {
      "cell_type": "code",
      "metadata": {
        "colab": {
          "base_uri": "https://localhost:8080/"
        },
        "id": "RqbZ06QP0TJ6",
        "outputId": "f151081b-4d6b-4e36-dd27-56a6f406f1c0"
      },
      "source": [
        "mini_df.groupby('Make')['MSRP'].mean()"
      ],
      "execution_count": 72,
      "outputs": [
        {
          "output_type": "execute_result",
          "data": {
            "text/plain": [
              "Make\n",
              "BMW    61546.763473\n",
              "Name: MSRP, dtype: float64"
            ]
          },
          "metadata": {},
          "execution_count": 72
        }
      ]
    },
    {
      "cell_type": "markdown",
      "metadata": {
        "id": "4p6qnQloBBkO"
      },
      "source": [
        "**Again subsetting the dataframe using relational operator to return True or False for each row, then passing that inside square bracket**\n",
        "\n",
        "> subset of cars after year 2015 ( i.e. 2015 and after)\n",
        "\n"
      ]
    },
    {
      "cell_type": "code",
      "metadata": {
        "colab": {
          "base_uri": "https://localhost:8080/"
        },
        "id": "ZOB3-gQE4dxq",
        "outputId": "fd267ba0-ed56-4545-cd11-ed1ca3f4d64d"
      },
      "source": [
        "y_2015 = df[df[\"Year\"]>= 2015]\n",
        "print(y_2015)"
      ],
      "execution_count": 73,
      "outputs": [
        {
          "output_type": "stream",
          "name": "stdout",
          "text": [
            "       Make       Model  Year  ... city mpg  Popularity   MSRP\n",
            "32     FIAT  124 Spider  2017  ...       26         819  27495\n",
            "33     FIAT  124 Spider  2017  ...       26         819  24995\n",
            "34     FIAT  124 Spider  2017  ...       26         819  28195\n",
            "41      BMW    2 Series  2016  ...       23        3916  32850\n",
            "42      BMW    2 Series  2016  ...       23        3916  38650\n",
            "...     ...         ...   ...  ...      ...         ...    ...\n",
            "11898   BMW          Z4  2015  ...       17        3916  56950\n",
            "11899   BMW          Z4  2015  ...       17        3916  65800\n",
            "11900   BMW          Z4  2016  ...       17        3916  57500\n",
            "11901   BMW          Z4  2016  ...       22        3916  49700\n",
            "11902   BMW          Z4  2016  ...       17        3916  66350\n",
            "\n",
            "[5995 rows x 16 columns]\n"
          ]
        }
      ]
    },
    {
      "cell_type": "markdown",
      "metadata": {
        "id": "ZC7IaC0rB4dA"
      },
      "source": [
        "**Finding in any missing values, if there in Engine HP column of the dataset**\n",
        "\n",
        "> Using isnull() function to get the null values, followed by sum() function to get the total of null value\n",
        "\n"
      ]
    },
    {
      "cell_type": "code",
      "metadata": {
        "colab": {
          "base_uri": "https://localhost:8080/"
        },
        "id": "EhUD5CI_9lZc",
        "outputId": "16ee45d8-5f06-4875-8773-2793ab0233c7"
      },
      "source": [
        "missing_HP = y_2015[\"Engine HP\"].isnull().sum()\n",
        "print(missing_HP)"
      ],
      "execution_count": 74,
      "outputs": [
        {
          "output_type": "stream",
          "name": "stdout",
          "text": [
            "51\n"
          ]
        }
      ]
    },
    {
      "cell_type": "markdown",
      "metadata": {
        "id": "BHI5Pj_xDms_"
      },
      "source": [
        "**Finding average of Engine HP column**\n",
        "\n",
        "\n",
        "1.   Average with null values as it is and rounded off\n",
        "2.   Average when all null values are filled with Previously got mean and rounded off\n",
        "\n",
        "\n",
        "\n"
      ]
    },
    {
      "cell_type": "code",
      "metadata": {
        "colab": {
          "base_uri": "https://localhost:8080/"
        },
        "id": "_ThmGOODAWbO",
        "outputId": "28e7d235-8701-4c64-e69a-de0f2d45b9be"
      },
      "source": [
        "avg_HP_before = df[\"Engine HP\"].mean()\n",
        "print(round(avg_HP_before))"
      ],
      "execution_count": 75,
      "outputs": [
        {
          "output_type": "stream",
          "name": "stdout",
          "text": [
            "249\n"
          ]
        }
      ]
    },
    {
      "cell_type": "code",
      "metadata": {
        "colab": {
          "base_uri": "https://localhost:8080/"
        },
        "id": "8lphQ4kVGeHJ",
        "outputId": "91148495-3ccf-4413-a765-36271e15da41"
      },
      "source": [
        "df[\"Engine HP\"].fillna(249, inplace = True)\n",
        "avg_HP_after = df[\"Engine HP\"].mean()\n",
        "print(round(avg_HP_before))"
      ],
      "execution_count": 76,
      "outputs": [
        {
          "output_type": "stream",
          "name": "stdout",
          "text": [
            "249\n"
          ]
        }
      ]
    },
    {
      "cell_type": "markdown",
      "metadata": {
        "id": "9rW6rFYNG0WP"
      },
      "source": [
        "**Subsetting rows on Make column to get all Rolls-Royce cars**\n",
        "\n",
        "> Filtering the above got using LOC function which is primarily Label Based to get desired data frame with \"Engine HP\", \"Engine Cylinders\", \"highway MPG\" columns\n",
        "\n"
      ]
    },
    {
      "cell_type": "code",
      "metadata": {
        "colab": {
          "base_uri": "https://localhost:8080/"
        },
        "id": "IK2nAVPbLMao",
        "outputId": "4ebcf35a-844b-4dd3-8c80-e3a9cab80d15"
      },
      "source": [
        " rr_cars = df[df[\"Make\"]== \"Rolls-Royce\"]\n",
        "\n",
        "filter_rr = rr_cars.loc[:,[\"Engine HP\", \"Engine Cylinders\", \"highway MPG\"]]\n",
        "print(filter_rr)"
      ],
      "execution_count": 77,
      "outputs": [
        {
          "output_type": "stream",
          "name": "stdout",
          "text": [
            "       Engine HP  Engine Cylinders  highway MPG\n",
            "2921       325.0               8.0           15\n",
            "3505       563.0              12.0           19\n",
            "5275       563.0              12.0           21\n",
            "5276       563.0              12.0           21\n",
            "5277       563.0              12.0           21\n",
            "5278       563.0              12.0           21\n",
            "5279       563.0              12.0           20\n",
            "5280       563.0              12.0           20\n",
            "5281       563.0              12.0           21\n",
            "5282       563.0              12.0           21\n",
            "5283       563.0              12.0           21\n",
            "5284       563.0              12.0           21\n",
            "7443       322.0              12.0           15\n",
            "7444       322.0              12.0           15\n",
            "7553       453.0              12.0           19\n",
            "7554       453.0              12.0           19\n",
            "7555       453.0              12.0           19\n",
            "7556       453.0              12.0           19\n",
            "7557       453.0              12.0           19\n",
            "7558       453.0              12.0           19\n",
            "7559       453.0              12.0           19\n",
            "7560       453.0              12.0           19\n",
            "7561       453.0              12.0           19\n",
            "7562       453.0              12.0           19\n",
            "7563       453.0              12.0           19\n",
            "7564       453.0              12.0           19\n",
            "9431       322.0              12.0           15\n",
            "9432       322.0              12.0           15\n",
            "11448      624.0              12.0           21\n",
            "11449      624.0              12.0           21\n",
            "11450      624.0              12.0           21\n"
          ]
        }
      ]
    },
    {
      "cell_type": "markdown",
      "metadata": {
        "id": "wKtsuHWGJhvC"
      },
      "source": [
        "**Dropping Duplicate values if any**\n",
        "\n",
        "> Using .drop_duplicate() function to remove duplicates \n",
        "\n"
      ]
    },
    {
      "cell_type": "code",
      "metadata": {
        "colab": {
          "base_uri": "https://localhost:8080/"
        },
        "id": "yZlLd9WaMAIt",
        "outputId": "dd7a1b1b-ff71-43e3-e569-269904a5c472"
      },
      "source": [
        " X = filter_rr.drop_duplicates()\n",
        "print(X)\n"
      ],
      "execution_count": 78,
      "outputs": [
        {
          "output_type": "stream",
          "name": "stdout",
          "text": [
            "       Engine HP  Engine Cylinders  highway MPG\n",
            "2921       325.0               8.0           15\n",
            "3505       563.0              12.0           19\n",
            "5275       563.0              12.0           21\n",
            "5279       563.0              12.0           20\n",
            "7443       322.0              12.0           15\n",
            "7553       453.0              12.0           19\n",
            "11448      624.0              12.0           21\n"
          ]
        }
      ]
    },
    {
      "cell_type": "markdown",
      "metadata": {
        "id": "YRnUf5zRJ8eP"
      },
      "source": [
        "**Computing the transpose of the above got array**"
      ]
    },
    {
      "cell_type": "code",
      "metadata": {
        "colab": {
          "base_uri": "https://localhost:8080/"
        },
        "id": "LcW4L4WZOU0g",
        "outputId": "a575a2e1-c48a-4bf3-d12e-d27a8275dae4"
      },
      "source": [
        "X_transpose = X.T\n",
        "print(X_transpose)\n",
        "\n",
        "\n"
      ],
      "execution_count": 79,
      "outputs": [
        {
          "output_type": "stream",
          "name": "stdout",
          "text": [
            "                  2921   3505   5275   5279   7443   7553   11448\n",
            "Engine HP         325.0  563.0  563.0  563.0  322.0  453.0  624.0\n",
            "Engine Cylinders    8.0   12.0   12.0   12.0   12.0   12.0   12.0\n",
            "highway MPG        15.0   19.0   21.0   20.0   15.0   19.0   21.0\n"
          ]
        }
      ]
    },
    {
      "cell_type": "markdown",
      "metadata": {
        "id": "ffzImFQFKWe7"
      },
      "source": [
        "**Matrix multiplication of two arrays**\n",
        "\n",
        "> Using NumPy .dot function\n",
        "\n"
      ]
    },
    {
      "cell_type": "code",
      "metadata": {
        "id": "I2l7FfGduEZB"
      },
      "source": [
        "XTX = X_transpose.dot(X)\n"
      ],
      "execution_count": 80,
      "outputs": []
    },
    {
      "cell_type": "markdown",
      "metadata": {
        "id": "b3wV-po1KuVt"
      },
      "source": [
        "**Finding the inverse of above array and sum of all its elements**\n",
        "\n",
        "> Using numpy.linalg.inv() to compute the (multiplicative) inverse of a matrix\n",
        "\n",
        "> Using sum() function to get the sum\n",
        "\n",
        "\n",
        "\n",
        "\n",
        "\n"
      ]
    },
    {
      "cell_type": "code",
      "metadata": {
        "colab": {
          "base_uri": "https://localhost:8080/"
        },
        "id": "eYhoZdmeuO5k",
        "outputId": "34c8124b-5874-45d4-c345-91ba49750243"
      },
      "source": [
        "XTX_inverted = np.linalg.inv(XTX)\n",
        "print(XTX_inverted)\n",
        "XTX_inverted.sum()\n"
      ],
      "execution_count": 81,
      "outputs": [
        {
          "output_type": "stream",
          "name": "stdout",
          "text": [
            "[[ 5.17815728e-05  9.06587044e-04 -1.92984188e-03]\n",
            " [ 9.06587044e-04  1.05723058e-01 -8.87084092e-02]\n",
            " [-1.92984188e-03 -8.87084092e-02  1.05900809e-01]]\n"
          ]
        },
        {
          "output_type": "execute_result",
          "data": {
            "text/plain": [
              "0.032212320677486125"
            ]
          },
          "metadata": {},
          "execution_count": 81
        }
      ]
    },
    {
      "cell_type": "markdown",
      "metadata": {
        "id": "Ih920gwLLr7J"
      },
      "source": [
        "**Creating an array and multiplyingg to get the desired results**"
      ]
    },
    {
      "cell_type": "code",
      "metadata": {
        "colab": {
          "base_uri": "https://localhost:8080/"
        },
        "id": "D7-KRsLCzetn",
        "outputId": "d7e3c646-a8a4-4b7d-e580-053255c695d0"
      },
      "source": [
        "y = [1000, 1100, 900, 1200, 1000, 850, 1300]\n",
        "mltiply = XTX_inverted.dot(X_transpose)\n",
        "w = mltiply.dot(y)\n",
        "print(w)"
      ],
      "execution_count": 82,
      "outputs": [
        {
          "output_type": "stream",
          "name": "stdout",
          "text": [
            "[ 0.19989598 31.02612262 31.65378877]\n"
          ]
        }
      ]
    }
  ]
}